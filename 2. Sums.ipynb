{
 "cells": [
  {
   "cell_type": "code",
   "execution_count": 1,
   "metadata": {
    "collapsed": true
   },
   "outputs": [],
   "source": [
    "import sympy as sp\n",
    "from sympy.abc import x"
   ]
  },
  {
   "cell_type": "markdown",
   "source": [
    "## Задание 1\n",
    "\n",
    "Найти первые два члена асимптотического разложения и оценку остаточного члена суммы $\\displaystyle S = \\sum_{k=1}^n \\frac{k^k - n!}{k + n}$\n",
    "при $n \\to \\infty$\n",
    "\n",
    "Разложим эту сумму на слагаемые:\n",
    "\n",
    "$\\displaystyle S = \\sum_{k=1}^n \\frac{k^k - n!}{k + n} = \\sum_{k=1}^n \\frac{k^k}{k + n} - n! \\sum_{k=1}^n \\frac{1}{k + n} = A - n! B$\n",
    "\n",
    "Для простоты разберём сначала $B$.\n",
    "\n",
    "### сумма $B$\n",
    "\n",
    "$\\displaystyle \\sum_{k=1}^n \\frac{1}{k + n} \\le \\frac{1}{n + 1} + \\int_1^n \\frac{dk}{k + n} = \\frac{1}{n + 1} + \\log{\\frac{2n}{n + 1}}$\n",
    "\n",
    "Так же заметим, что $\\displaystyle \\log{\\frac{2n}{n + 1}} \\xrightarrow[]{n \\to \\infty} \\log{2}$\n",
    "\n",
    "### сумма $A$\n",
    "\n",
    "Пусть $\\displaystyle A_i = \\sum_{k=1}^i \\frac{k^k}{k + n}$.\n",
    "\n",
    "Тогда $\\displaystyle A_n = \\frac{n^n}{2n} + A_{n - 1} = \\frac{1}{2}n^{n-1} + O(n^{n - 2}) = n^{n-1}(\\frac{1}{2} + O(\\frac{1}{n}))$\n",
    "\n",
    "### Подстановка $A$ и $B$\n",
    "\n",
    "$\\displaystyle S = A - n! B = n^{n-1}(\\frac{1}{2} + O(\\frac{1}{n})) + n!(\\frac{1}{n + 1} + \\log{\\frac{2n}{n + 1}})$\n",
    "\n",
    "Используя формулу Стирглига $\\displaystyle n! = \\sqrt{2\\pi n} (\\frac{n}{e})^n (1 + \\frac{1}{12n} + O(n^{-2}))$\n",
    "\n",
    "$\\displaystyle S = \\frac{2\\sqrt{\\pi n}}{e^n} n^n + (\\frac{1}{2} + \\frac{\\sqrt{\\pi n}}{6e^n})n^{n - 1} + O(n^{n-\\frac{3}{2}})$"
   ],
   "metadata": {
    "collapsed": false,
    "pycharm": {
     "name": "#%% md\n"
    }
   }
  },
  {
   "cell_type": "code",
   "execution_count": 2,
   "outputs": [
    {
     "data": {
      "text/plain": "(1 - factorial(n))/(2*(n + 1)) + Integral((_x**_x - factorial(n))/(_x + n), (_x, 1, n)) + (n**n - factorial(n))/(4*n)",
      "text/latex": "$\\displaystyle \\frac{1 - n!}{2 \\left(n + 1\\right)} + \\int\\limits_{1}^{n} \\frac{x^{x} - n!}{x + n}\\, dx + \\frac{n^{n} - n!}{4 n}$"
     },
     "execution_count": 2,
     "metadata": {},
     "output_type": "execute_result"
    }
   ],
   "source": [
    "k, n = sp.symbols('k, n')\n",
    "s, e = sp.Sum((k**k - sp.factorial(n)) / (k + n), (k, 1, n)).euler_maclaurin()\n",
    "s"
   ],
   "metadata": {
    "collapsed": false,
    "pycharm": {
     "name": "#%%\n"
    }
   }
  },
  {
   "cell_type": "code",
   "execution_count": 3,
   "outputs": [
    {
     "data": {
      "text/plain": "Abs((1 - factorial(n))/(12*(n + 1)**2) - 1/(12*(n + 1)) + n**n*(log(n) + 1)/(24*n) - (n**n - factorial(n))/(48*n**2))",
      "text/latex": "$\\displaystyle \\left|{\\frac{1 - n!}{12 \\left(n + 1\\right)^{2}} - \\frac{1}{12 \\left(n + 1\\right)} + \\frac{n^{n} \\left(\\log{\\left(n \\right)} + 1\\right)}{24 n} - \\frac{n^{n} - n!}{48 n^{2}}}\\right|$"
     },
     "execution_count": 3,
     "metadata": {},
     "output_type": "execute_result"
    }
   ],
   "source": [
    "e"
   ],
   "metadata": {
    "collapsed": false,
    "pycharm": {
     "name": "#%%\n"
    }
   }
  },
  {
   "cell_type": "markdown",
   "source": [
    "## Задание 2\n",
    "\n",
    "Найти первые два члена асимптотического разложения и оценку остаточного члена суммы $\\displaystyle S = \\sum_{k=1}^{+\\infty} f(k) = \\sum_{k=1}^{+\\infty} \\frac{1}{k^2 (n + k)}$\n",
    "при $n \\to \\infty$\n",
    "\n",
    "Воспользуемся формулой Эйлера-Маклорена:\n",
    "* [x] $f(x) \\in C^{\\infty}[0, n]$\n",
    "\n",
    "$\\displaystyle \\sum_{k=m}^{n} f(k) = \\int_m^n f(x) dx + \\frac{f(n) + f(m)}{2} + \\sum_{k=1}^N \\frac{B_{2k}}{(2k)!} (f^{(2k - 1)}(n) - f^{(2k - 1)}(m)) - R_{2N}$,\n",
    "\n",
    "где $\\displaystyle R_{2N} = \\theta \\frac{B_{2N + 2}}{(2N + 2)!} (f^{(2k + 1)}(n) - f^{(2k + 1)}(m)),\\quad \\theta \\in [0, 1]$\n",
    "\n",
    "### Вычисление интеграла\n",
    "\n",
    "Для начала, разобьём сумму на простые дроби."
   ],
   "metadata": {
    "collapsed": false,
    "pycharm": {
     "name": "#%% md\n"
    }
   }
  },
  {
   "cell_type": "code",
   "execution_count": 4,
   "outputs": [
    {
     "data": {
      "text/plain": "1/(n*x**2) + 1/(n**2*(n + x)) - 1/(n**2*x)",
      "text/latex": "$\\displaystyle \\frac{1}{n x^{2}} + \\frac{1}{n^{2} \\left(n + x\\right)} - \\frac{1}{n^{2} x}$"
     },
     "execution_count": 4,
     "metadata": {},
     "output_type": "execute_result"
    }
   ],
   "source": [
    "sp.apart(1 / (x**2 * (n + x)), x)"
   ],
   "metadata": {
    "collapsed": false,
    "pycharm": {
     "name": "#%%\n"
    }
   }
  },
  {
   "cell_type": "markdown",
   "source": [
    "Теперь мы можем просто отыскать интеграл. Так как нам нужны только первые 2 члена разложения, то мы можем безопасно заменить пределы интегрирования с $[1, +\\infty]$ на $[1, n]$ при $n \\to +\\infty$.\n",
    "\n",
    "$\\displaystyle \\frac{1}{n} \\int_1^n x^{-2}dx + \\frac{1}{n^2} \\int_1^n {\\frac{d(n + x)}{n + x}} - \\frac{1}{n^2} \\int_1^n{x^{-1}}dx = $\n",
    "\n",
    "$\\displaystyle = \\frac{1}{n} - \\frac{\\log(n + 1)}{n^2} + O(n^{-2})$"
   ],
   "metadata": {
    "collapsed": false,
    "pycharm": {
     "name": "#%% md\n"
    }
   }
  },
  {
   "cell_type": "markdown",
   "source": [
    "### Вычислим второе слагаемое\n",
    "\n",
    "$\\displaystyle \\frac{f(n) + f(1)}{2} = \\frac{1}{2(n + 1)} + \\frac{1}{4n^3}$"
   ],
   "metadata": {
    "collapsed": false,
    "pycharm": {
     "name": "#%% md\n"
    }
   }
  },
  {
   "cell_type": "markdown",
   "source": [
    "### Оценка в разложении Бернулли\n",
    "\n",
    "$\\displaystyle f'(x) = - \\frac{1}{x^2 (n + x)^2} - \\frac{2}{x^3(n + x)}$\n",
    "\n",
    "Первый член имеет порядок $O(\\frac{1}{n + 1})$ и, таким образом, попадает в число значимых слагаемых."
   ],
   "metadata": {
    "collapsed": false,
    "pycharm": {
     "name": "#%% md\n"
    }
   }
  },
  {
   "cell_type": "markdown",
   "source": [
    "### В итоге\n",
    "\n",
    "$\\displaystyle S = \\frac{1}{n} - \\frac{\\log(n + 1)}{n^2} + O(n^{-2}) + \\frac{1}{2(n + 1)}  - \\frac{1}{2(n + 1)} = \\frac{1}{n} - \\frac{\\log(n + 1)}{n^2} + O(n^{-2})$"
   ],
   "metadata": {
    "collapsed": false,
    "pycharm": {
     "name": "#%% md\n"
    }
   }
  },
  {
   "cell_type": "code",
   "execution_count": 5,
   "outputs": [
    {
     "data": {
      "text/plain": "1/(2*(n + 1)) + 1/n + (-log(n) + log(2*n))/n**2 - log(n + 1)/n**2 - 1/n**2 + 1/(4*n**3)",
      "text/latex": "$\\displaystyle \\frac{1}{2 \\left(n + 1\\right)} + \\frac{1}{n} + \\frac{- \\log{\\left(n \\right)} + \\log{\\left(2 n \\right)}}{n^{2}} - \\frac{\\log{\\left(n + 1 \\right)}}{n^{2}} - \\frac{1}{n^{2}} + \\frac{1}{4 n^{3}}$"
     },
     "execution_count": 5,
     "metadata": {},
     "output_type": "execute_result"
    }
   ],
   "source": [
    "n = sp.Symbol(\"n\", is_positive=True, is_integer=True, is_real=True)\n",
    "s, e = sp.Sum(1 / (k**2 * (n + k)), (k, 1, n)).euler_maclaurin(0)\n",
    "s\n"
   ],
   "metadata": {
    "collapsed": false,
    "pycharm": {
     "name": "#%%\n"
    }
   }
  },
  {
   "cell_type": "markdown",
   "source": [
    "## Задание 3\n",
    "\n",
    "Найти первые два члена асимптотического разложения и оценку остаточного члена суммы $\\displaystyle S = \\sum_{k=0}^{n} f(k) = \\sum_{k=0}^{n} k \\arctan(k)$\n",
    "при $n \\to \\infty$\n",
    "\n",
    "Воспользуемся формулой Эйлера-Маклорена:\n",
    "* [x] $f(x) \\in C^{\\infty}[0, n]$\n",
    "\n",
    "$\\displaystyle \\sum_{k=m}^{n} f(k) = \\int_m^n f(x) dx + \\frac{f(n) + f(m)}{2} + \\sum_{k=1}^N \\frac{B_{2k}}{(2k)!} (f^{(2k - 1)}(n) - f^{(2k - 1)}(m)) - R_{2N}$,\n",
    "\n",
    "где $\\displaystyle R_{2N} = \\theta \\frac{B_{2N + 2}}{(2N + 2)!} (f^{(2k + 1)}(n) - f^{(2k + 1)}(m)),\\quad \\theta \\in [0, 1]$\n",
    "\n",
    "### Разберём интеграл\n",
    "\n",
    "$\\displaystyle \\int_0^n f(x) dx = \\frac{1}{2} \\int_0^n \\arctan(x) dx^2 = \\frac{x^2}{2}\\arctan(x) \\Big|_0^n - \\frac{1}{2} \\int_0^n \\frac{x^2}{x^2 + 1}dx = $\n",
    "\n",
    "$\\displaystyle = \\frac{n^2}{2}\\arctan(n) - \\frac{1}{2}\\int_0^n (1 - \\frac{1}{1 + x^2})dx = \\frac{n^2}{2}\\arctan(n) - \\frac{n}{2} + \\frac{\\arctan(n)}{2}$\n",
    "\n",
    "### Разберём второе слагаемое\n",
    "\n",
    "$\\displaystyle \\frac{f(n) + f(0)}{2} = \\frac{n \\arctan(n)}{2}$\n",
    "\n",
    "### Оценка в разложении Бернулли\n",
    "\n",
    "$\\displaystyle f'(x) = \\frac{x}{x^2 + 1} + \\arctan(x)$\n",
    "\n",
    "Таким образом, первый члены суммы с невозрастающими членами оценивается как $O(\\arctan(n))$\n",
    "\n",
    "В результате, $\\displaystyle R_{0} = \\theta \\frac{B_2}{2}(\\frac{n}{n^2 + 1} + \\arctan(n)), \\quad \\theta \\in [0, 1]$\n",
    "\n",
    "### В итоге\n",
    "\n",
    "$\\displaystyle S = \\frac{n^2}{2}\\arctan(n) + \\frac{n}{2}(\\arctan(n) - 1) - \\frac{n}{2} + O(\\arctan(n))$\n",
    "\n",
    "### Проверка"
   ],
   "metadata": {
    "collapsed": false,
    "pycharm": {
     "name": "#%% md\n"
    }
   }
  },
  {
   "cell_type": "code",
   "execution_count": 6,
   "outputs": [
    {
     "data": {
      "text/plain": "n**2*atan(n)/2 + n*atan(n)/2 - n/2 + atan(n)/2",
      "text/latex": "$\\displaystyle \\frac{n^{2} \\operatorname{atan}{\\left(n \\right)}}{2} + \\frac{n \\operatorname{atan}{\\left(n \\right)}}{2} - \\frac{n}{2} + \\frac{\\operatorname{atan}{\\left(n \\right)}}{2}$"
     },
     "execution_count": 6,
     "metadata": {},
     "output_type": "execute_result"
    }
   ],
   "source": [
    "s, e = sp.Sum(k * sp.atan(k), (k, 0, n)).euler_maclaurin()\n",
    "s"
   ],
   "metadata": {
    "collapsed": false,
    "pycharm": {
     "name": "#%%\n"
    }
   }
  },
  {
   "cell_type": "code",
   "execution_count": 7,
   "outputs": [
    {
     "data": {
      "text/plain": "Abs(n/(12*(n**2 + 1)) + atan(n)/12)",
      "text/latex": "$\\displaystyle \\left|{\\frac{n}{12 \\left(n^{2} + 1\\right)} + \\frac{\\operatorname{atan}{\\left(n \\right)}}{12}}\\right|$"
     },
     "execution_count": 7,
     "metadata": {},
     "output_type": "execute_result"
    }
   ],
   "source": [
    "e"
   ],
   "metadata": {
    "collapsed": false,
    "pycharm": {
     "name": "#%%\n"
    }
   }
  }
 ],
 "metadata": {
  "kernelspec": {
   "display_name": "Python 3",
   "language": "python",
   "name": "python3"
  },
  "language_info": {
   "codemirror_mode": {
    "name": "ipython",
    "version": 2
   },
   "file_extension": ".py",
   "mimetype": "text/x-python",
   "name": "python",
   "nbconvert_exporter": "python",
   "pygments_lexer": "ipython2",
   "version": "2.7.6"
  }
 },
 "nbformat": 4,
 "nbformat_minor": 0
}