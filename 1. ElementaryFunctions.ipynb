{
 "cells": [
  {
   "cell_type": "code",
   "execution_count": 1,
   "metadata": {
    "collapsed": true
   },
   "outputs": [],
   "source": [
    "import sympy as sp\n",
    "from sympy.abc import x, y"
   ]
  },
  {
   "cell_type": "markdown",
   "source": [
    "## Задание 1\n",
    "\n",
    "$(\\frac{sin^2(x)}{x^2})^{\\frac{1}{x}}$"
   ],
   "metadata": {
    "collapsed": false,
    "pycharm": {
     "name": "#%% md\n"
    }
   }
  },
  {
   "cell_type": "code",
   "execution_count": 2,
   "outputs": [
    {
     "data": {
      "text/plain": "1",
      "text/latex": "$\\displaystyle 1$"
     },
     "execution_count": 2,
     "metadata": {},
     "output_type": "execute_result"
    }
   ],
   "source": [
    "expr1 = (sp.sin(x) ** 2 / x**2) ** (1 / x)\n",
    "sp.limit(expr1, x, 0)"
   ],
   "metadata": {
    "collapsed": false,
    "pycharm": {
     "name": "#%%\n"
    }
   }
  },
  {
   "cell_type": "code",
   "execution_count": 3,
   "outputs": [
    {
     "data": {
      "text/plain": "1 - x/3 + x**2/18 - 7*x**3/405 + O(x**4)",
      "text/latex": "$\\displaystyle 1 - \\frac{x}{3} + \\frac{x^{2}}{18} - \\frac{7 x^{3}}{405} + O\\left(x^{4}\\right)$"
     },
     "execution_count": 3,
     "metadata": {},
     "output_type": "execute_result"
    }
   ],
   "source": [
    "expr1.series(x, 0, 4)"
   ],
   "metadata": {
    "collapsed": false,
    "pycharm": {
     "name": "#%%\n"
    }
   }
  },
  {
   "cell_type": "markdown",
   "source": [
    "* $sin(x) = x - \\frac{x^3}{6} + \\frac{x^5}{120} + O(x^6)$\n",
    "* $sin^2(x) = sin(x) \\cdot sin(x) = (x - \\frac{x^3}{6} + \\frac{x^5}{120} + O(x^6)) \\cdot (x - \\frac{x^3}{6} + \\frac{x^5}{120} + O(x^6))$\n",
    "$= x^2 - 2\\frac{x^4}{6} + (2\\frac{1}{120} + \\frac{1}{6^2})x^6 + O(x^7) = x^2 - \\frac{x^4}{3} + \\frac{2x^6}{45} + O(x^7)$"
   ],
   "metadata": {
    "collapsed": false,
    "pycharm": {
     "name": "#%% md\n"
    }
   }
  },
  {
   "cell_type": "markdown",
   "source": [
    "* $sin^2(x) / x^2 = 1 - \\frac{x^2}{3} + \\frac{2x^4}{45} + O(x^5)$"
   ],
   "metadata": {
    "collapsed": false,
    "pycharm": {
     "name": "#%% md\n"
    }
   }
  },
  {
   "cell_type": "markdown",
   "source": [
    "Проэкспонируем $(sin^2(x) / x^2)^{\\frac{1}{x}}$\n",
    "\n",
    "* $\\exp[\\frac{1}{x}\\ln(1 - \\frac{x^2}{3} + \\frac{2x^4}{45} + O(x^5))]$"
   ],
   "metadata": {
    "collapsed": false,
    "pycharm": {
     "name": "#%% md\n"
    }
   }
  },
  {
   "cell_type": "markdown",
   "source": [
    "Раскроем логарифм по асимтотике $\\ln(1 + x) = x - \\frac{x^2}{2} + O(x^3)$:\n",
    "\n",
    "* $\\ln(1 - \\frac{x^2}{3} + \\frac{2x^4}{45} + O(x^5)) = -\\frac{x^2}{3} + \\frac{2x}{45} - \\frac{x^4}{2 \\cdot 9} + O(x^6) = -\\frac{x^2}{3} - \\frac{x^4}{90} + O(x^6)$\n",
    "\n",
    "После домножения на $\\frac{1}{x}$ в результате получим $\\exp[-\\frac{x}{3} - \\frac{x^3}{90} + O(x^5)]$"
   ],
   "metadata": {
    "collapsed": false,
    "pycharm": {
     "name": "#%% md\n"
    }
   }
  },
  {
   "cell_type": "markdown",
   "source": [
    "Экспоненту раскроем по $\\exp(x) = 1 + x + \\frac{x^2}{2!} + O(x^3)$\n",
    "\n",
    "$\\exp[-\\frac{x}{3} - \\frac{x^3}{90} + O(x^5)] = 1 + [-\\frac{x}{3} - \\frac{x^3}{90}] + [\\frac{x^2}{18} + O(x^6)] + O(x^3)$\n",
    "$= 1 - \\frac{x}{3} + \\frac{x^2}{18} + O(x^3)$\n",
    "\n",
    "----"
   ],
   "metadata": {
    "collapsed": false,
    "pycharm": {
     "name": "#%% md\n"
    }
   }
  },
  {
   "cell_type": "markdown",
   "source": [
    "## Задание 2\n",
    "\n",
    "$\\sqrt{x^3 + x^2} - \\frac{x^3}{x^2 + 1}$"
   ],
   "metadata": {
    "collapsed": false,
    "pycharm": {
     "name": "#%% md\n"
    }
   }
  },
  {
   "cell_type": "code",
   "execution_count": 4,
   "outputs": [
    {
     "data": {
      "text/plain": "-x**3/(x**2 + 1) + sqrt(x**3 + x**2)",
      "text/latex": "$\\displaystyle - \\frac{x^{3}}{x^{2} + 1} + \\sqrt{x^{3} + x^{2}}$"
     },
     "execution_count": 4,
     "metadata": {},
     "output_type": "execute_result"
    }
   ],
   "source": [
    "x = sp.Symbol('x', positive=True, real=True)\n",
    "expr2 = sp.sqrt(x**3 + x**2) - x**3 / (x**2 + 1)\n",
    "expr2\n"
   ],
   "metadata": {
    "collapsed": false,
    "pycharm": {
     "name": "#%%\n"
    }
   }
  },
  {
   "cell_type": "code",
   "execution_count": 5,
   "outputs": [
    {
     "data": {
      "text/plain": "oo",
      "text/latex": "$\\displaystyle \\infty$"
     },
     "execution_count": 5,
     "metadata": {},
     "output_type": "execute_result"
    }
   ],
   "source": [
    "sp.limit(expr2, x, sp.oo)"
   ],
   "metadata": {
    "collapsed": false,
    "pycharm": {
     "name": "#%%\n"
    }
   }
  },
  {
   "cell_type": "code",
   "execution_count": 12,
   "outputs": [
    {
     "data": {
      "text/plain": "7/(256*x**(7/2)) - 5/(128*x**(5/2)) + 1/(16*x**(3/2)) - 1/(8*sqrt(x)) + 1/x - x + sqrt(x)/2 + x**(3/2) + O(x**(-4), (x, oo))",
      "text/latex": "$\\displaystyle \\frac{7}{256 x^{\\frac{7}{2}}} - \\frac{5}{128 x^{\\frac{5}{2}}} + \\frac{1}{16 x^{\\frac{3}{2}}} - \\frac{1}{8 \\sqrt{x}} + \\frac{1}{x} - x + \\frac{\\sqrt{x}}{2} + x^{\\frac{3}{2}} + O\\left(\\frac{1}{x^{4}}; x\\rightarrow \\infty\\right)$"
     },
     "execution_count": 12,
     "metadata": {},
     "output_type": "execute_result"
    }
   ],
   "source": [
    "expr2.series(x, sp.oo, 4)"
   ],
   "metadata": {
    "collapsed": false,
    "pycharm": {
     "name": "#%%\n"
    }
   }
  },
  {
   "cell_type": "markdown",
   "source": [
    "Будем раскладывать слагаемые независимо друг от друга. Начнём с корня.\n",
    "\n",
    "$\\sqrt{x^3 + x^3} = x\\sqrt{x + 1}$\n",
    "\n",
    "Разложение $\\sqrt{x + 1}$ при $x \\rightarrow +\\infty$ не удобно, так что выделим изнутри корня $x$:\n",
    "\n",
    "$x\\sqrt{x + 1} = x\\sqrt{x} \\cdot \\sqrt{1 + \\frac{1}{x}}$\n",
    "\n",
    "$\\frac{1}{x} \\rightarrow 0$, так что к $\\sqrt{1 + \\frac{1}{x}}$ можем применить классическое разложение $(1 + y)^a = 1 + ay + \\frac{a(a-1)}{2}y^2 + O(y^3)$\n",
    "\n",
    "$x\\sqrt{x} \\cdot \\sqrt{1 + \\frac{1}{x}} = x\\sqrt{x} + \\frac{\\sqrt{x}}{2} - \\frac{1}{8\\sqrt{x}} + O(\\frac{1}{x\\sqrt{x}})$\n"
   ],
   "metadata": {
    "collapsed": false,
    "pycharm": {
     "name": "#%% md\n"
    }
   }
  },
  {
   "cell_type": "code",
   "source": [
    "expr21 = x * sp.exp(sp.Rational(1, 2) * sp.log(x + 1)).series(x, sp.oo, 2)\n",
    "expr21.expand()"
   ],
   "metadata": {
    "collapsed": false,
    "pycharm": {
     "name": "#%%\n"
    }
   },
   "execution_count": 14,
   "outputs": [
    {
     "data": {
      "text/plain": "-1/(8*sqrt(x)) + sqrt(x)/2 + x**(3/2) + O(1/x, (x, oo))",
      "text/latex": "$\\displaystyle - \\frac{1}{8 \\sqrt{x}} + \\frac{\\sqrt{x}}{2} + x^{\\frac{3}{2}} + O\\left(\\frac{1}{x}; x\\rightarrow \\infty\\right)$"
     },
     "execution_count": 14,
     "metadata": {},
     "output_type": "execute_result"
    }
   ]
  },
  {
   "cell_type": "markdown",
   "source": [
    "Слагаемое с дробью выгодно сразу свести к $y = \\frac{1}{x}, y \\rightarrow 0$, чтобы попытаться получить простой знаменатель:\n",
    "\n",
    "$\\frac{x^3}{x^2 + 1} = \\frac{1}{y^3(1 + \\frac{1}{y^2})} = \\frac{y^2}{y^3(1 + y^2)} = \\frac{x}{1 + y^2} = x(1 - y^2 + O(y^4)) =\n",
    "x - \\frac{1}{x} + O(\\frac{1}{x^3})$"
   ],
   "metadata": {
    "collapsed": false,
    "pycharm": {
     "name": "#%% md\n"
    }
   }
  },
  {
   "cell_type": "code",
   "execution_count": 39,
   "outputs": [
    {
     "data": {
      "text/plain": "-1/x + x + O(x**(-3), (x, oo))",
      "text/latex": "$\\displaystyle - \\frac{1}{x} + x + O\\left(\\frac{1}{x^{3}}; x\\rightarrow \\infty\\right)$"
     },
     "execution_count": 39,
     "metadata": {},
     "output_type": "execute_result"
    }
   ],
   "source": [
    "expr22 = (x**3 / (1 + x**2)).series(x, sp.oo, 3)\n",
    "expr22"
   ],
   "metadata": {
    "collapsed": false,
    "pycharm": {
     "name": "#%%\n"
    }
   }
  },
  {
   "cell_type": "markdown",
   "source": [
    "Финальное вычитание:\n",
    "\n",
    "$x\\sqrt{x} + \\frac{\\sqrt{x}}{2} - \\frac{1}{8\\sqrt{x}} + O(\\frac{1}{x\\sqrt{x}}) - x + \\frac{1}{x} + O(\\frac{1}{x^3}) =\n",
    "x\\sqrt{x} - x + O(\\sqrt{x})$"
   ],
   "metadata": {
    "collapsed": false,
    "pycharm": {
     "name": "#%% md\n"
    }
   }
  },
  {
   "cell_type": "code",
   "execution_count": 40,
   "outputs": [
    {
     "data": {
      "text/plain": "-1/(8*sqrt(x)) - x + sqrt(x)/2 + x**(3/2) + O(1/x, (x, oo))",
      "text/latex": "$\\displaystyle - \\frac{1}{8 \\sqrt{x}} - x + \\frac{\\sqrt{x}}{2} + x^{\\frac{3}{2}} + O\\left(\\frac{1}{x}; x\\rightarrow \\infty\\right)$"
     },
     "execution_count": 40,
     "metadata": {},
     "output_type": "execute_result"
    }
   ],
   "source": [
    "(expr21 - expr22).expand()"
   ],
   "metadata": {
    "collapsed": false,
    "pycharm": {
     "name": "#%%\n"
    }
   }
  },
  {
   "cell_type": "code",
   "execution_count": 26,
   "outputs": [
    {
     "data": {
      "text/plain": "-1/(8*sqrt(x)) - x + sqrt(x)/2 + x**(3/2) + O(1/x, (x, oo))",
      "text/latex": "$\\displaystyle - \\frac{1}{8 \\sqrt{x}} - x + \\frac{\\sqrt{x}}{2} + x^{\\frac{3}{2}} + O\\left(\\frac{1}{x}; x\\rightarrow \\infty\\right)$"
     },
     "execution_count": 26,
     "metadata": {},
     "output_type": "execute_result"
    }
   ],
   "source": [
    "(expr21 - expr22).simplify().expand()"
   ],
   "metadata": {
    "collapsed": false,
    "pycharm": {
     "name": "#%%\n"
    }
   }
  },
  {
   "cell_type": "markdown",
   "source": [
    "---\n",
    "\n",
    "## Задание 3\n",
    "\n",
    "$I(x) = \\displaystyle \\int_x^{+\\infty} \\frac{\\sin{t^2}}{t\\sqrt{t}}dt,\\quad x \\rightarrow + \\infty$\n",
    "\n",
    "$\\sin{t^2}$ нам сильно мешает, так что попытаемся его упростить с помощью замены переменной $y = t^2$:\n",
    "\n",
    "$I(x) = \\displaystyle \\int_x^{+\\infty} \\frac{\\sin{t^2}}{t\\sqrt{t}}dt = \\int_{x^2}^{+\\infty}  y^{-\\frac{5}{4}} \\sin{y}\\ dy$.\n",
    "\n",
    "Для простоты записи последующих вычислений, будем использовать $a = \\frac{5}{4}$, $z = x^2$\n",
    "\n",
    "Далее, проинтегрируем по частям:\n",
    "\n",
    "$I(x) = \\displaystyle\\int_x^{+\\infty} y^{-a} \\sin{y}\\ dy = -\\displaystyle\\int_z^{+\\infty} y^{-a} d\\cos{y} = $\n",
    "\n",
    "$ = -y^{-a} \\cos{y} \\Big|_{z}^{+\\infty} - a \\displaystyle\\int_z^{+\\infty} y^{-a - 1}\\cos{y}\\ d = y$\n",
    "\n",
    "$ = z^{-a}\\cos{z} - a [y^{-a-1}\\sin{y}\\Big|_{z}^{+\\infty} + (a + 1)\\displaystyle \\int_z^{+\\infty} y^{-a-2}\\sin{y}\\ dy] = $\n",
    "\n",
    "$= z^{-a}\\cos{z}  + a \\cdot z^{-a - 1}\\sin{z} - a(a - 1) \\displaystyle \\int_z^{+\\infty} y^{-a-2}\\sin{y}\\ dy$\n",
    "\n",
    "После подстановки:\n",
    "\n",
    "$I(x) = x^{-\\frac{5}{2}}\\cos{x^2} + \\frac{5}{4}x^{-\\frac{9}{2}}\\sin{x^2} - R(x)$,\n",
    "\n",
    "где $R(x) = \\frac{45}{16} \\displaystyle \\int_{x^2}^{+\\infty} y^{-\\frac{5}{4}-2}\\sin{y}\\ dy \\le  \\frac{45}{16} \\displaystyle \\int_{x^2}^{+\\infty} y^{-\\frac{5}{4}-2}\\ dy = \\frac{45}{16}x^{-\\frac{9}{2}} $\n"
   ],
   "metadata": {
    "collapsed": false,
    "pycharm": {
     "name": "#%% md\n"
    }
   }
  },
  {
   "cell_type": "markdown",
   "source": [
    "# Задание 4\n",
    "\n",
    "$I(x) = \\displaystyle \\int_{1}^{x} \\sqrt[4]{t^3 + 3t^2} \\cos{\\frac{1}{t}}dt,\\quad x \\rightarrow \\infty$\n",
    "\n",
    "Так же заменим переменную $y = \\displaystyle\\frac{1}{t}$:\n",
    "\n",
    "$-\\displaystyle \\int_{\\frac{1}{x}}^{1} \\sqrt[4]{\\frac{1}{y^3} + \\frac{3}{y^2}}\\cdot \\cos{y} \\frac{dy}{y^2} = $\n",
    "\n",
    "$= -\\displaystyle \\int_{\\frac{1}{x}}^{1} \\frac{\\sqrt[4]{1 + 3y}}{y^{\\frac{11}{4}}}d\\sin{y} = $\n",
    "\n",
    "$= -\\displaystyle\\frac{\\sqrt[4]{1 + 3y}}{y^{\\frac{11}{4}}} \\sin{y} \\Big|_{\\frac{1}{x}}^1 - \\displaystyle \\int_{\\frac{1}{x}}^{1} \\frac{30y + 11}{4y^{\\frac{15}{4}} (3y + 1)^{\\frac{3}{4}}} \\sin{y}\\ dy = $\n",
    "\n",
    "$= -\\sqrt{2} \\sin{1} + \\displaystyle \\sqrt{1 + \\frac{3}{x}} x^{\\frac{11}{4}} \\sin{\\frac{1}{x}} + \\displaystyle \\int_{\\frac{1}{x}}^{1} \\frac{30y + 11}{4y^{\\frac{15}{4}} (3y + 1)^{\\frac{3}{4}}}\\ d \\cos{y} =$\n",
    "\n",
    "$= \\displaystyle \\sqrt{1 + \\frac{3}{x}} x^{\\frac{11}{4}} \\sin{\\frac{1}{x}} - \\frac{8(2x + 15)x^{\\frac{9}{2}}}{(x + 3)^{\\frac{3}{4}}} \\cos{\\frac{1}{x}} -\\sqrt{2} \\sin{1} + \\frac{41}{4 \\cdot 2^{\\frac{3}{2}}} \\cos{1} - R(x)$,\n",
    "\n",
    "где $R(x) = \\displaystyle \\int_{\\frac{1}{x}}^{1} \\frac{3 \\left(420 y^{2} + 308 y + 55\\right)}{16 y^{\\frac{19}{4}} \\left(3 y + 1\\right)^{\\frac{7}{4}}} \\cos{y}\\ dy$\n",
    "$ = O(x^{\\frac{9}{2}})$"
   ],
   "metadata": {
    "collapsed": false,
    "pycharm": {
     "name": "#%% md\n"
    }
   }
  },
  {
   "cell_type": "code",
   "execution_count": 89,
   "outputs": [
    {
     "data": {
      "text/plain": "-(30*y + 11)/(4*y**(15/4)*(3*y + 1)**(3/4))",
      "text/latex": "$\\displaystyle - \\frac{30 y + 11}{4 y^{\\frac{15}{4}} \\left(3 y + 1\\right)^{\\frac{3}{4}}}$"
     },
     "execution_count": 89,
     "metadata": {},
     "output_type": "execute_result"
    }
   ],
   "source": [
    "e = (1 + 3*y) ** sp.Rational(1, 4) / y ** sp.Rational(11, 4)\n",
    "e.diff(y).simplify()"
   ],
   "metadata": {
    "collapsed": false,
    "pycharm": {
     "name": "#%%\n"
    }
   }
  },
  {
   "cell_type": "code",
   "execution_count": 91,
   "outputs": [
    {
     "data": {
      "text/plain": "3*(420*y**2 + 308*y + 55)/(16*y**(19/4)*(3*y + 1)**(7/4))",
      "text/latex": "$\\displaystyle \\frac{3 \\left(420 y^{2} + 308 y + 55\\right)}{16 y^{\\frac{19}{4}} \\left(3 y + 1\\right)^{\\frac{7}{4}}}$"
     },
     "execution_count": 91,
     "metadata": {},
     "output_type": "execute_result"
    }
   ],
   "source": [
    "e.diff(y).simplify().diff(y).simplify()\n"
   ],
   "metadata": {
    "collapsed": false,
    "pycharm": {
     "name": "#%%\n"
    }
   }
  }
 ],
 "metadata": {
  "kernelspec": {
   "display_name": "Python 3",
   "language": "python",
   "name": "python3"
  },
  "language_info": {
   "codemirror_mode": {
    "name": "ipython",
    "version": 2
   },
   "file_extension": ".py",
   "mimetype": "text/x-python",
   "name": "python",
   "nbconvert_exporter": "python",
   "pygments_lexer": "ipython2",
   "version": "2.7.6"
  }
 },
 "nbformat": 4,
 "nbformat_minor": 0
}